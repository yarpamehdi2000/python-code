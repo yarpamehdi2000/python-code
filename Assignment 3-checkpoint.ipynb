{
 "cells": [
  {
   "cell_type": "code",
   "execution_count": null,
   "metadata": {},
   "outputs": [],
   "source": [
    "# Question1:\n",
    "#Write a Python program to print the following string in a specific format (see→the output).\n",
    "# Twinkle, twinkle, little star,\n",
    "            # How I wonder what you are!\n",
    "                # Up above the world so high,\n",
    "                # Like a diamond in the sky.\n",
    "# Twinkle, twinkle, little star,\n",
    "            # How I wonder what you are\n",
    "print('''Twinkle, twinkle, little star,\n",
    "                  How I wonder what you are!\n",
    "                      Up above the world so high,\n",
    "                      Like a diamond in the sky.\n",
    "Twinkle, twinkle, little star,\n",
    "         How I wonder what you are''')"
   ]
  },
  {
   "cell_type": "code",
   "execution_count": 5,
   "metadata": {},
   "outputs": [
    {
     "name": "stdout",
     "output_type": "stream",
     "text": [
      "Python version\n",
      "3.6.5 |Anaconda, Inc.| (default, Mar 29 2018, 13:32:41) [MSC v.1900 64 bit (AMD64)]\n",
      "Version info.\n",
      "sys.version_info(major=3, minor=6, micro=5, releaselevel='final', serial=0)\n"
     ]
    },
    {
     "name": "stderr",
     "output_type": "stream",
     "text": [
      "Python 3.6.5 :: Anaconda, Inc.\n"
     ]
    }
   ],
   "source": [
    "# Question2\n",
    "#Write a Python program to get the Python version you are using\n",
    "!python --version\n",
    "import sys\n",
    "print(\"Python version\")\n",
    "print (sys.version)\n",
    "print(\"Version info.\")\n",
    "print (sys.version_info)\n"
   ]
  },
  {
   "cell_type": "code",
   "execution_count": 7,
   "metadata": {},
   "outputs": [
    {
     "name": "stdout",
     "output_type": "stream",
     "text": [
      "Current date: 2021-10-24 \n",
      " Current time: 19:54:10.981428\n"
     ]
    }
   ],
   "source": [
    "#Question3\n",
    "#Write a Python program to display the current date and time.\n",
    "import datetime\n",
    "datetime = str(datetime.datetime.now())\n",
    "# date = datetime[0:10]\n",
    "# time = datetime[11:]\n",
    "print(\"Current date: {} \\n Current time: {}\".format(datetime[:10],datetime[11:]))\n"
   ]
  },
  {
   "cell_type": "code",
   "execution_count": 8,
   "metadata": {},
   "outputs": [
    {
     "name": "stdout",
     "output_type": "stream",
     "text": [
      "Radius: 4\n",
      "Area of the circle is:  50.265\n"
     ]
    }
   ],
   "source": [
    "#Question4\n",
    "#Write a Python program which accepts the radius of a circle from the user and compute the area.\n",
    "import math\n",
    "r = int(input(\"Radius: \"))\n",
    "area = math.pi*(r)**2\n",
    "print(\"Area of the circle is: \",round(area, 3))\n"
   ]
  },
  {
   "cell_type": "code",
   "execution_count": 9,
   "metadata": {},
   "outputs": [
    {
     "name": "stdout",
     "output_type": "stream",
     "text": [
      "enter your first name: Mehdi\n",
      "enter your last name: Yarpa\n",
      "Yarpa Mehdi\n"
     ]
    }
   ],
   "source": [
    "#Question5\n",
    "#Write a Python program which accepts the user's first and last name and print them in reverse order with a space between them.\n",
    "fname = input(\"enter your first name: \")\n",
    "lname = input(\"enter your last name: \")\n",
    "print(lname,fname)\n"
   ]
  },
  {
   "cell_type": "code",
   "execution_count": 2,
   "metadata": {},
   "outputs": [
    {
     "name": "stdout",
     "output_type": "stream",
     "text": [
      "enter first number4\n",
      "enter second number7\n",
      "additin is:  11\n"
     ]
    }
   ],
   "source": [
    "#Question6\n",
    "#Write a python program which takes two inputs from user and print them addition\n",
    "a=int(input(\"enter first number\"))\n",
    "b=int(input(\"enter second number\"))\n",
    "sum=a+b;\n",
    "print(\"additin is: \",sum)\n"
   ]
  },
  {
   "cell_type": "code",
   "execution_count": 19,
   "metadata": {},
   "outputs": [
    {
     "name": "stdout",
     "output_type": "stream",
     "text": [
      "Mathematics: 90\n",
      "Physics: 80\n",
      "Chemistry: 90\n",
      "English: 70\n",
      "Urdu: 70\n"
     ]
    },
    {
     "ename": "IndexError",
     "evalue": "list index out of range",
     "output_type": "error",
     "traceback": [
      "\u001b[1;31m---------------------------------------------------------------------------\u001b[0m",
      "\u001b[1;31mIndexError\u001b[0m                                Traceback (most recent call last)",
      "\u001b[1;32m<ipython-input-19-dbf1abe5c67a>\u001b[0m in \u001b[0;36m<module>\u001b[1;34m()\u001b[0m\n\u001b[0;32m     19\u001b[0m \u001b[0mTotal\u001b[0m \u001b[0mObtianed\u001b[0m \u001b[0mMarks\u001b[0m \u001b[1;33m{\u001b[0m\u001b[0msum\u001b[0m\u001b[1;33m(\u001b[0m\u001b[0mobtM\u001b[0m\u001b[1;33m)\u001b[0m\u001b[1;33m}\u001b[0m\u001b[1;33m/\u001b[0m\u001b[1;36m500\u001b[0m\u001b[1;33m\u001b[0m\u001b[0m\n\u001b[0;32m     20\u001b[0m \u001b[1;33m-\u001b[0m\u001b[1;33m-\u001b[0m\u001b[1;33m-\u001b[0m\u001b[1;33m-\u001b[0m\u001b[1;33m-\u001b[0m\u001b[1;33m-\u001b[0m\u001b[1;33m-\u001b[0m\u001b[1;33m-\u001b[0m\u001b[1;33m-\u001b[0m\u001b[1;33m-\u001b[0m\u001b[1;33m-\u001b[0m\u001b[1;33m-\u001b[0m\u001b[1;33m-\u001b[0m\u001b[1;33m-\u001b[0m\u001b[1;33m-\u001b[0m\u001b[1;33m-\u001b[0m\u001b[1;33m-\u001b[0m\u001b[1;33m-\u001b[0m\u001b[1;33m-\u001b[0m\u001b[1;33m-\u001b[0m\u001b[1;33m-\u001b[0m\u001b[1;33m-\u001b[0m\u001b[1;33m-\u001b[0m\u001b[1;33m-\u001b[0m\u001b[1;33m-\u001b[0m\u001b[1;33m-\u001b[0m\u001b[1;33m-\u001b[0m\u001b[1;33m-\u001b[0m\u001b[1;33m-\u001b[0m\u001b[1;33m-\u001b[0m\u001b[1;33m-\u001b[0m\u001b[1;33m-\u001b[0m\u001b[1;33m-\u001b[0m\u001b[1;33m-\u001b[0m\u001b[1;33m-\u001b[0m\u001b[1;33m-\u001b[0m\u001b[1;33m-\u001b[0m\u001b[1;33m-\u001b[0m\u001b[1;33m-\u001b[0m\u001b[1;33m-\u001b[0m\u001b[1;33m-\u001b[0m\u001b[1;33m-\u001b[0m\u001b[1;33m-\u001b[0m\u001b[1;33m-\u001b[0m\u001b[1;33m-\u001b[0m\u001b[1;33m-\u001b[0m\u001b[1;33m-\u001b[0m\u001b[1;33m-\u001b[0m\u001b[1;33m-\u001b[0m\u001b[1;33m-\u001b[0m\u001b[1;33m-\u001b[0m\u001b[1;33m-\u001b[0m\u001b[1;33m-\u001b[0m\u001b[1;33m-\u001b[0m\u001b[1;33m-\u001b[0m\u001b[1;33m-\u001b[0m\u001b[1;33m-\u001b[0m\u001b[1;33m-\u001b[0m\u001b[1;33m\u001b[0m\u001b[0m\n\u001b[1;32m---> 21\u001b[1;33m ''' )\n\u001b[0m",
      "\u001b[1;31mIndexError\u001b[0m: list index out of range"
     ]
    }
   ],
   "source": [
    "#Question7\n",
    "#Write a program which takes 5 inputs from user for different subject’s marks,total it and generate mark sheet using grades ?\n",
    "#Assumption: Total marks of each subject is 100.\n",
    "subjects = [\"Mathematics\", \"Physics\", \"Chemistry\", \"English\", \"Urdu\"]\n",
    "#input loop\n",
    "obtM = []\n",
    "for sub in subjects:\n",
    "    obtMarks = int(input(sub+\": \"))\n",
    "obtM.append(obtMarks)\n",
    "print(f'''\n",
    "---------------------------------------------------------\n",
    "Student Mark Sheet\n",
    "Subject Obt Marks Total Marks\n",
    "{subjects[0]} {obtM[0]} 100\n",
    "{subjects[1]} {obtM[1]} 100\n",
    "{subjects[2]} {obtM[2]} 100\n",
    "{subjects[3]} {obtM[3]} 100\n",
    "{subjects[4]} {obtM[4]} 100\n",
    "Total Obtianed Marks {sum(obtM)}/500\n",
    "----------------------------------------------------------\n",
    "''' )\n",
    "\n"
   ]
  },
  {
   "cell_type": "code",
   "execution_count": 13,
   "metadata": {},
   "outputs": [
    {
     "name": "stdout",
     "output_type": "stream",
     "text": [
      "enter a number: 66\n",
      "66 is even\n"
     ]
    }
   ],
   "source": [
    "#Question8\n",
    "#Write a program which take input from user and identify that the given number is even or odd?\n",
    "num = int(input(\"enter a number: \"))\n",
    "if num%2 == 0: print(\"{} is even\".format(num))\n",
    "else: print(\"{} is odd\".format(num))\n"
   ]
  },
  {
   "cell_type": "code",
   "execution_count": 14,
   "metadata": {},
   "outputs": [
    {
     "name": "stdout",
     "output_type": "stream",
     "text": [
      "The length of the list is 5\n",
      "Alternate Program\n",
      "The length of the list is 5\n"
     ]
    }
   ],
   "source": [
    "#Question9\n",
    "#Write a program which print the length of the list?\n",
    "#let the list is [1, 2, 3, 4, 5]\n",
    "lst = [1, 2, 3, 4, 5]\n",
    "print('The length of the list is', len(lst))\n",
    "#Alternate\n",
    "print(\"Alternate Program\")\n",
    "length = 0\n",
    "for i in lst: length+=1\n",
    "print('The length of the list is',length)\n"
   ]
  },
  {
   "cell_type": "code",
   "execution_count": 16,
   "metadata": {},
   "outputs": [
    {
     "name": "stdout",
     "output_type": "stream",
     "text": [
      "The Largest number of the numeric list is 5\n",
      "Alternate Program\n",
      "The Largest number of the numeric list is 5\n"
     ]
    }
   ],
   "source": [
    "#Question11\n",
    "#Write a Python program to get the largest number from a numeric list.\n",
    "#let the list is [1, 2, 3, 4, 5]\n",
    "lst = [1, 2, 3, 4, 5]\n",
    "print('The Largest number of the numeric list is',max(lst))\n",
    "#Alternate\n",
    "print(\"Alternate Program\")\n",
    "largestNum = float('-inf')\n",
    "for i in lst:\n",
    "    if i > largestNum: largestNum = i\n",
    "print('The Largest number of the numeric list is',largestNum)\n"
   ]
  },
  {
   "cell_type": "code",
   "execution_count": 18,
   "metadata": {},
   "outputs": [
    {
     "name": "stdout",
     "output_type": "stream",
     "text": [
      "2\n",
      "3\n",
      "4\n",
      "0\n"
     ]
    }
   ],
   "source": [
    "#Question12\n",
    "#Take a list, say for example this one:\n",
    "# a = [1, 1, 2, 3, 5, 8, 13, 21, 34, 55, 89]\n",
    "# Write a program that prints out all the elements of the list that are less than 5.\n",
    "a = [2,3,4,5,6,7,8,9,0]\n",
    "for i in a:\n",
    "    if i < 5: print(i)\n"
   ]
  },
  {
   "cell_type": "code",
   "execution_count": null,
   "metadata": {},
   "outputs": [],
   "source": []
  }
 ],
 "metadata": {
  "kernelspec": {
   "display_name": "Python 3",
   "language": "python",
   "name": "python3"
  },
  "language_info": {
   "codemirror_mode": {
    "name": "ipython",
    "version": 3
   },
   "file_extension": ".py",
   "mimetype": "text/x-python",
   "name": "python",
   "nbconvert_exporter": "python",
   "pygments_lexer": "ipython3",
   "version": "3.6.5"
  }
 },
 "nbformat": 4,
 "nbformat_minor": 2
}
